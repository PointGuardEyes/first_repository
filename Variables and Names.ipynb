{
 "cells": [
  {
   "cell_type": "code",
   "execution_count": 1,
   "metadata": {},
   "outputs": [
    {
     "name": "stdout",
     "output_type": "stream",
     "text": [
      "There are 100 cars available.\n",
      "There are only 30 drivers available.\n",
      "There will be 70 empty cars today.\n",
      "We can transport 120.0 people today.\n",
      "We have 90 to carpool today.\n",
      "We need to put about 3.0 in each car.\n"
     ]
    }
   ],
   "source": [
    "## Practice setting variables and calling them inside of print statements. This is from the book, \"Learn Python3 the Hard Way.\"\n",
    "cars = 100\n",
    "space_in_a_car = 4\n",
    "drivers = 30\n",
    "passengers = 90\n",
    "\n",
    "cars_not_driven = cars - drivers\n",
    "cars_driven = drivers\n",
    "carpool_capacity = cars_driven * space_in_a_car\n",
    "average_passengers_per_car = passengers / cars_driven\n",
    "\n",
    "print('There are', cars, 'cars available.')\n",
    "print('There are only', drivers, 'drivers available.')\n",
    "print('There will be', cars_not_driven, 'empty cars today.')\n",
    "print('We can transport', carpool_capacity, 'people today.')\n",
    "print('We have', passengers, 'to carpool today.')\n",
    "print('We need to put about', average_passengers_per_car, 'in each car.')"
   ]
  },
  {
   "cell_type": "code",
   "execution_count": 2,
   "metadata": {},
   "outputs": [
    {
     "name": "stdout",
     "output_type": "stream",
     "text": [
      "There are 100 cars available.\n"
     ]
    }
   ],
   "source": [
    "## Here, I am recalling an alternate, busier way of printing by concatenating the strings with the variable. (this is not from\n",
    "## the book mentioned above)\n",
    "num_of_cars = str(cars)\n",
    "print('There are' + \" \" + num_of_cars + \" \" + 'cars available.')"
   ]
  },
  {
   "cell_type": "code",
   "execution_count": 4,
   "metadata": {},
   "outputs": [
    {
     "name": "stdout",
     "output_type": "stream",
     "text": [
      "Let's talk about Zed A. Shaw.\n",
      "He's 74 inches tall.\n",
      "He's 180 pounds heavy.\n",
      "Actually, that's not too heavy.\n",
      "He's got Blue eyes and Brown hair.\n",
      "His teeth are usually White depending on the coffee.\n",
      "If I add 35, 74, and 180, I get 289.\n"
     ]
    }
   ],
   "source": [
    "## Using a formatted string (now back to the book)\n",
    "my_name = 'Zed A. Shaw'\n",
    "my_age = 35 # not a lie\n",
    "my_height = 74 # inches\n",
    "my_weight = 180 # lbs\n",
    "my_eyes = 'Blue'\n",
    "my_teeth = 'White'\n",
    "my_hair = 'Brown'\n",
    "\n",
    "print(f\"Let's talk about {my_name}.\")\n",
    "print(f\"He's {my_height} inches tall.\")\n",
    "print(f\"He's {my_weight} pounds heavy.\")\n",
    "print(f\"Actually, that's not too heavy.\")\n",
    "print(f\"He's got {my_eyes} eyes and {my_hair} hair.\")\n",
    "print(f\"His teeth are usually {my_teeth} depending on the coffee.\")\n",
    "\n",
    "total = my_age + my_height + my_weight\n",
    "print(f\"If I add {my_age}, {my_height}, and {my_weight}, I get {total}.\")"
   ]
  },
  {
   "cell_type": "code",
   "execution_count": 5,
   "metadata": {},
   "outputs": [
    {
     "name": "stdout",
     "output_type": "stream",
     "text": [
      "Traditional positioning would tell you a point guard should be somewhere around 6 feet tall.\n",
      "Traditional positioning would tell you a shooting guard should be somewhere around 6 feet, 6 inches tall.\n",
      "Traditional positioning would tell you a small forward would be somewhere between 6 feet, 6 inches and 6 feet, 9 inches tall.\n",
      "Traditional positioning would tell you a power forward would be somewhere between 6 feet, 8 inches and 6 fee, 11 inches tall.\n",
      "Traditional positioning would tell you a center would be somehwere between 6 feet 11 incehs and anywhere over 7 feet tall.\n"
     ]
    }
   ],
   "source": [
    "## Now, my own example.\n",
    "\n",
    "p1 = 'point guard'\n",
    "p2 = 'shooting guard'\n",
    "p3 = 'small forward'\n",
    "p4 = 'power forward'\n",
    "p5 = 'center'\n",
    "h1 = '6 feet'\n",
    "h2 = '6 feet, 6 inches'\n",
    "h3 = 'between 6 feet, 6 inches and 6 feet, 9 inches'\n",
    "h4 = 'between 6 feet, 8 inches and 6 fee, 11 inches'\n",
    "h5 = 'between 6 feet 11 incehs and anywhere over 7 feet'\n",
    "\n",
    "print(f'Traditional positioning would tell you a {p1} should be somewhere around {h1} tall.')\n",
    "print(f'Traditional positioning would tell you a {p2} should be somewhere around {h2} tall.')\n",
    "print(f'Traditional positioning would tell you a {p3} would be somewhere {h3} tall.')\n",
    "print(f'Traditional positioning would tell you a {p4} would be somewhere {h4} tall.')\n",
    "print(f'Traditional positioning would tell you a {p5} would be somehwere {h5} tall.')\n",
    "\n",
    "\n"
   ]
  },
  {
   "cell_type": "code",
   "execution_count": null,
   "metadata": {},
   "outputs": [],
   "source": []
  }
 ],
 "metadata": {
  "kernelspec": {
   "display_name": "Python 3",
   "language": "python",
   "name": "python3"
  },
  "language_info": {
   "codemirror_mode": {
    "name": "ipython",
    "version": 3
   },
   "file_extension": ".py",
   "mimetype": "text/x-python",
   "name": "python",
   "nbconvert_exporter": "python",
   "pygments_lexer": "ipython3",
   "version": "3.8.5"
  }
 },
 "nbformat": 4,
 "nbformat_minor": 4
}
